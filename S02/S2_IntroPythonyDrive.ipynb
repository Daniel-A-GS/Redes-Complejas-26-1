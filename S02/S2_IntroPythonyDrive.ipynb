{
  "nbformat": 4,
  "nbformat_minor": 0,
  "metadata": {
    "colab": {
      "provenance": [],
      "collapsed_sections": [
        "JEKwrKIow5DT"
      ]
    },
    "kernelspec": {
      "name": "python3",
      "display_name": "Python 3"
    },
    "language_info": {
      "name": "python"
    }
  },
  "cells": [
    {
      "cell_type": "markdown",
      "source": [
        "# Markdown"
      ],
      "metadata": {
        "id": "JEKwrKIow5DT"
      }
    },
    {
      "cell_type": "markdown",
      "source": [
        "## Título\n",
        "### Subtítulo\n",
        "Este es un ejemplo de texto que da entrada a una lista genérica de elementos:\n",
        "- Elemento 1\n",
        "- Elemento 2\n",
        "- Elemento 3\n",
        "\n",
        "Este es un ejemplo de texto que da entrada a una lista numerada:\n",
        "1. Elemento 1\n",
        "2. Elemento 2\n",
        "3. Elemento 3\n",
        "\n",
        "Al texto en Markdown puedes añadirle formato como **negrita** o *cursiva* o <u>subrayado</u>."
      ],
      "metadata": {
        "id": "kM8jfiN-0koA"
      }
    },
    {
      "cell_type": "markdown",
      "source": [
        "## Encabezado 2\n",
        "### Encabezado 3\n",
        "#### Encabezado 4\n",
        "##### Encabezado 5\n",
        "###### Encabezado 6"
      ],
      "metadata": {
        "id": "W_cVVFu-0-9P"
      }
    },
    {
      "cell_type": "markdown",
      "source": [
        "Citas:\n",
        "> ¿Los piratas son malvados? ¿Los marines son justos? Estos términos siempre han cambiado a lo largo de la historia. ¡Los niños que nunca han visto la paz y los niños que nunca han visto la guerra tienen valores diferentes! ¡Aquellos que están en la cima determinan lo que está mal y lo que está bien! ¡Este mismo lugar es terreno neutral! La justicia prevalecerá, dices, por supuesto que sí. Quienes ganan la guerra, se convierten en Justicia.\n",
        "\n",
        "— Donquixote Doflamingo, One Piece (Eiichiro Oda)."
      ],
      "metadata": {
        "id": "W8R7o4Ge1YTm"
      }
    },
    {
      "cell_type": "markdown",
      "source": [
        "> Esto sería una cita como la que acabas de ver.\n",
        ">\n",
        "> > Dentro de ella puedes anidar otra cita.\n",
        ">\n",
        "> La cita principal llegaría hasta aquí."
      ],
      "metadata": {
        "id": "nP1AKO8q28uD"
      }
    },
    {
      "cell_type": "markdown",
      "source": [
        "Código:\n",
        "\n",
        "~~~\n",
        "print(\"Hello World!\")\n",
        "~~~"
      ],
      "metadata": {
        "id": "uJugdFrI3EaL"
      }
    },
    {
      "cell_type": "markdown",
      "source": [
        "Lineas horizontales:\n",
        "\n",
        "***\n",
        "---\n",
        "___"
      ],
      "metadata": {
        "id": "y6geKfAr3Iv2"
      }
    },
    {
      "cell_type": "markdown",
      "source": [
        "Enlaces / URL:\n",
        "\n",
        "[LinkedIn](https://www.linkedin.com/in/daniel-garcia-data-analyst/)\n",
        "\n",
        "<https://networkx.org/documentation/stable/index.html>"
      ],
      "metadata": {
        "id": "R0vH1Ewd3Uih"
      }
    },
    {
      "cell_type": "markdown",
      "source": [
        "Imágenes:\n",
        "\n",
        "![Texto alternativo](/ruta/a/la/imagen.jpg)"
      ],
      "metadata": {
        "id": "A_TxgPPU384i"
      }
    },
    {
      "cell_type": "markdown",
      "source": [
        "# Python Básico"
      ],
      "metadata": {
        "id": "syh0mPP2w-GI"
      }
    },
    {
      "cell_type": "markdown",
      "source": [
        "## Operadores Básicos"
      ],
      "metadata": {
        "id": "eLCld8NkP6nS"
      }
    },
    {
      "cell_type": "code",
      "source": [
        "print(5 + 6)\n",
        "print(5 - 6)\n",
        "print(5 * 6)\n",
        "print(2 / 4)\n",
        "print(7 % 6)\n",
        "print(3 ** 3)\n",
        "print(13 // 6)"
      ],
      "metadata": {
        "colab": {
          "base_uri": "https://localhost:8080/"
        },
        "id": "6eX4HH4VP5zN",
        "outputId": "2730b8be-4ed4-44d8-c807-2e663668ce85"
      },
      "execution_count": null,
      "outputs": [
        {
          "output_type": "stream",
          "name": "stdout",
          "text": [
            "11\n",
            "-1\n",
            "30\n",
            "0.5\n",
            "1\n",
            "27\n",
            "2\n"
          ]
        }
      ]
    },
    {
      "cell_type": "code",
      "source": [
        "print(2 > 3)\n",
        "print(2 < 3)\n",
        "print(2 >= 3)\n",
        "print(2 <= 3)\n",
        "print(2 == 3)\n",
        "print(2 != 3)"
      ],
      "metadata": {
        "colab": {
          "base_uri": "https://localhost:8080/"
        },
        "id": "asQB04DOQNxB",
        "outputId": "845f3a9a-854d-4b42-ba0d-ed8785660961"
      },
      "execution_count": null,
      "outputs": [
        {
          "output_type": "stream",
          "name": "stdout",
          "text": [
            "False\n",
            "True\n",
            "False\n",
            "True\n",
            "False\n",
            "True\n"
          ]
        }
      ]
    },
    {
      "cell_type": "code",
      "source": [
        "print(True and True)\n",
        "print(True and False)\n",
        "print(False and True)\n",
        "print(False and False)"
      ],
      "metadata": {
        "colab": {
          "base_uri": "https://localhost:8080/"
        },
        "id": "_hwPVyt6QSrq",
        "outputId": "7cac5760-99c7-40cc-8fcd-bc9aae696d5b"
      },
      "execution_count": null,
      "outputs": [
        {
          "output_type": "stream",
          "name": "stdout",
          "text": [
            "True\n",
            "False\n",
            "False\n",
            "False\n"
          ]
        }
      ]
    },
    {
      "cell_type": "code",
      "source": [
        "print(type(2))\n",
        "print(type(2.0))\n",
        "print(type(True))\n",
        "print(type(\"Hola\"))\n",
        "#Lista (list): mutable, puedes cambiar su contenido (agregar, eliminar, modificar elementos).\n",
        "print(type([1, 2, 3]))\n",
        "#Tupla (tuple): inmutable, no puedes modificar sus elementos una vez creada.\n",
        "print(type((1, 2, 3)))\n",
        "print(type({1, 2, 3}))\n",
        "#dic = {(1, 2): \"valor\"}  Una tupla se puede usar como clave\n",
        "#dic[[1, 2]] = \"valor\"    Una lista no se puede usar como clave\n",
        "print(type({\"a\": 1, \"b\": 2, \"c\": 3}))\n",
        "print(type(None))\n",
        "print(type(...))\n",
        "print(type(print))"
      ],
      "metadata": {
        "colab": {
          "base_uri": "https://localhost:8080/"
        },
        "id": "BFXhY60MSJQz",
        "outputId": "a4c5b876-bb80-47da-e21c-bc1717065f01"
      },
      "execution_count": null,
      "outputs": [
        {
          "output_type": "stream",
          "name": "stdout",
          "text": [
            "<class 'int'>\n",
            "<class 'float'>\n",
            "<class 'bool'>\n",
            "<class 'str'>\n",
            "<class 'list'>\n",
            "<class 'tuple'>\n",
            "<class 'set'>\n",
            "<class 'dict'>\n",
            "<class 'NoneType'>\n",
            "<class 'ellipsis'>\n",
            "<class 'builtin_function_or_method'>\n"
          ]
        }
      ]
    },
    {
      "cell_type": "markdown",
      "source": [
        "## Funciones"
      ],
      "metadata": {
        "id": "ZF3Ao-YdTSjV"
      }
    },
    {
      "cell_type": "code",
      "source": [
        "def suma(a, b):\n",
        "    valor = a+b\n",
        "    return valor\n",
        "print(suma(2, 3))\n",
        "print(type(suma))"
      ],
      "metadata": {
        "colab": {
          "base_uri": "https://localhost:8080/"
        },
        "id": "vt_Y-NvqS0sU",
        "outputId": "24ca28ff-0212-4b85-f7cb-b1e3acb11c5e"
      },
      "execution_count": null,
      "outputs": [
        {
          "output_type": "stream",
          "name": "stdout",
          "text": [
            "5\n",
            "<class 'function'>\n"
          ]
        }
      ]
    },
    {
      "cell_type": "code",
      "source": [
        "x = [1, 2, 3]\n",
        "cuadrados = list(map(lambda x: x**2, x))\n",
        "print(cuadrados)  # [1, 4, 9]\n",
        "#añadir grafica"
      ],
      "metadata": {
        "colab": {
          "base_uri": "https://localhost:8080/"
        },
        "id": "_1POPepyS4rO",
        "outputId": "04af7e65-0cc8-4590-a838-251be24c9380"
      },
      "execution_count": null,
      "outputs": [
        {
          "output_type": "stream",
          "name": "stdout",
          "text": [
            "[1, 4, 9]\n"
          ]
        }
      ]
    },
    {
      "cell_type": "code",
      "source": [
        "x = lambda a, b: a + b\n",
        "print(x(2, 3))"
      ],
      "metadata": {
        "colab": {
          "base_uri": "https://localhost:8080/"
        },
        "id": "wk7bzItrNMjg",
        "outputId": "8441520f-c96e-47de-c9be-72bc8d2b9377"
      },
      "execution_count": null,
      "outputs": [
        {
          "output_type": "stream",
          "name": "stdout",
          "text": [
            "5\n"
          ]
        }
      ]
    },
    {
      "cell_type": "markdown",
      "source": [
        "##Strings"
      ],
      "metadata": {
        "id": "m-sq8cHUvSnw"
      }
    },
    {
      "cell_type": "code",
      "execution_count": null,
      "metadata": {
        "colab": {
          "base_uri": "https://localhost:8080/"
        },
        "id": "yb6hFF9csNHO",
        "outputId": "ecb1582f-36d3-42d2-9740-703673f79c10"
      },
      "outputs": [
        {
          "output_type": "stream",
          "name": "stdout",
          "text": [
            "REDES COMPLEJAS\n",
            "redes complejas\n",
            "Redes Complejas\n"
          ]
        }
      ],
      "source": [
        "materia = \"Redes Complejas\"\n",
        "print(materia.upper())\n",
        "print(materia.lower())\n",
        "print(materia)"
      ]
    },
    {
      "cell_type": "code",
      "source": [
        "print(materia[0])"
      ],
      "metadata": {
        "colab": {
          "base_uri": "https://localhost:8080/"
        },
        "id": "9SV_Ozlo1Lmm",
        "outputId": "a35f4173-ed40-4125-819a-7952ddbdf7cb"
      },
      "execution_count": null,
      "outputs": [
        {
          "output_type": "stream",
          "name": "stdout",
          "text": [
            "R\n"
          ]
        }
      ]
    },
    {
      "cell_type": "code",
      "source": [
        "print(len(materia))"
      ],
      "metadata": {
        "colab": {
          "base_uri": "https://localhost:8080/"
        },
        "id": "oWCb6jZ-1Xif",
        "outputId": "49a682d8-482b-48e5-ca58-b9f3547d9f80"
      },
      "execution_count": null,
      "outputs": [
        {
          "output_type": "stream",
          "name": "stdout",
          "text": [
            "14\n"
          ]
        }
      ]
    },
    {
      "cell_type": "code",
      "source": [
        "print(\"ompl\" in materia)"
      ],
      "metadata": {
        "colab": {
          "base_uri": "https://localhost:8080/"
        },
        "id": "nsdUI8yR1Yys",
        "outputId": "12fd32a7-3028-4ff6-a6ef-f01c0bedb08f"
      },
      "execution_count": null,
      "outputs": [
        {
          "output_type": "stream",
          "name": "stdout",
          "text": [
            "True\n"
          ]
        }
      ]
    },
    {
      "cell_type": "code",
      "source": [
        "nombre = input(str(\"Ingrese su nombre: \"))\n",
        "\n",
        "#Iniciales\n",
        "palabras = nombre.split()\n",
        "iniciales = \"\".join([palabra[0] for palabra in palabras])\n",
        "print(\"Iniciales:\", iniciales)\n",
        "\n",
        "#Cuántas letras tiene el nombre\n",
        "sin_espacios = nombre.replace(\" \", \"\")\n",
        "cantidad_letras = len(sin_espacios)\n",
        "print(\"Cantidad de letras:\", cantidad_letras)"
      ],
      "metadata": {
        "colab": {
          "base_uri": "https://localhost:8080/"
        },
        "id": "eD-tx07cujMo",
        "outputId": "dcb91774-b8fc-44af-991a-6d23bc8c7756"
      },
      "execution_count": null,
      "outputs": [
        {
          "output_type": "stream",
          "name": "stdout",
          "text": [
            "Ingrese su nombre: ABC D\n",
            "Iniciales: AD\n",
            "Cantidad de letras: 4\n"
          ]
        }
      ]
    },
    {
      "cell_type": "markdown",
      "source": [
        "## Listas"
      ],
      "metadata": {
        "id": "5rC5JwwNvkFY"
      }
    },
    {
      "cell_type": "code",
      "source": [
        "materias = [\"Lineal\", \"Cálculo\", \"Estadística\"]\n",
        "print(\"Lista original:\", materias)\n",
        "\n",
        "#Añadir un elemento a una lista\n",
        "materias.append(\"Redes Complejas\")\n",
        "print(\"append:\", materias)"
      ],
      "metadata": {
        "colab": {
          "base_uri": "https://localhost:8080/"
        },
        "id": "K4BJ2Y57vHuz",
        "outputId": "1cecb7f5-a1e2-4685-9a7b-6eaea6012f71"
      },
      "execution_count": null,
      "outputs": [
        {
          "output_type": "stream",
          "name": "stdout",
          "text": [
            "Lista original: ['Lineal', 'Cálculo', 'Estadística']\n",
            "append: ['Lineal', 'Cálculo', 'Estadística', 'Redes Complejas']\n"
          ]
        }
      ]
    },
    {
      "cell_type": "code",
      "source": [
        "#Añadir un elemento en una posición específica\n",
        "materias.insert(1, \"Gráficas y Juegos\")\n",
        "print(\"insert:\", materias)"
      ],
      "metadata": {
        "colab": {
          "base_uri": "https://localhost:8080/"
        },
        "id": "rYb3ZhsZ3F3C",
        "outputId": "f1a2af19-aec2-4b9c-9495-343b30b24ad2"
      },
      "execution_count": null,
      "outputs": [
        {
          "output_type": "stream",
          "name": "stdout",
          "text": [
            "insert: ['Lineal', 'Gráficas y Juegos', 'Cálculo', 'Estadística', 'Redes Complejas']\n"
          ]
        }
      ]
    },
    {
      "cell_type": "code",
      "source": [
        "#Eliminar el primer elemento que coincida\n",
        "materias.remove(\"Cálculo\")\n",
        "print(\"remove:\", materias)"
      ],
      "metadata": {
        "colab": {
          "base_uri": "https://localhost:8080/"
        },
        "id": "Kut-YkLx4CpN",
        "outputId": "bdcc3022-2ae9-43d2-9043-744983365e17"
      },
      "execution_count": null,
      "outputs": [
        {
          "output_type": "stream",
          "name": "stdout",
          "text": [
            "remove: ['Lineal', 'Gráficas y Juegos', 'Estadística', 'Redes Complejas']\n"
          ]
        }
      ]
    },
    {
      "cell_type": "code",
      "source": [
        "#Eliminar el elemento en la posición indicada\n",
        "materias.pop(2)\n",
        "print(\"pop:\", materias)"
      ],
      "metadata": {
        "colab": {
          "base_uri": "https://localhost:8080/"
        },
        "id": "uKKV6i2Q4EBk",
        "outputId": "34f62928-3a37-411d-9453-878181c083af"
      },
      "execution_count": null,
      "outputs": [
        {
          "output_type": "stream",
          "name": "stdout",
          "text": [
            "pop: ['Lineal', 'Gráficas y Juegos', 'Redes Complejas']\n"
          ]
        }
      ]
    },
    {
      "cell_type": "code",
      "source": [
        "#Devuelve el elemento que se encuentra en la posición indicada\n",
        "indice = materias.index(\"Lineal\")\n",
        "print(\"index:\", indice)"
      ],
      "metadata": {
        "colab": {
          "base_uri": "https://localhost:8080/"
        },
        "id": "XGHUQEx64GN5",
        "outputId": "c826d8ff-a32d-4373-cde6-356adb414bd5"
      },
      "execution_count": null,
      "outputs": [
        {
          "output_type": "stream",
          "name": "stdout",
          "text": [
            "index: 0\n"
          ]
        }
      ]
    },
    {
      "cell_type": "code",
      "source": [
        "#Devuelve la cantidad de veces que aparece un elemento\n",
        "materias.append(\"Álgebra\")\n",
        "cantidad = materias.count(\"Álgebra\")\n",
        "print(\"count:\", cantidad)"
      ],
      "metadata": {
        "colab": {
          "base_uri": "https://localhost:8080/"
        },
        "id": "6XeXiR2X4HsU",
        "outputId": "f24ca7bf-1e78-4bd6-b0fb-f134cf0585b3"
      },
      "execution_count": null,
      "outputs": [
        {
          "output_type": "stream",
          "name": "stdout",
          "text": [
            "count: 1\n"
          ]
        }
      ]
    },
    {
      "cell_type": "code",
      "source": [
        "#Ordenar la lista alfabeticamente\n",
        "materias.sort(reverse=True) #Acento\n",
        "print(\"sort:\", materias)"
      ],
      "metadata": {
        "colab": {
          "base_uri": "https://localhost:8080/"
        },
        "id": "sZqFEDLg4JId",
        "outputId": "f500e230-073c-4fb5-e97b-c3e32e4f51b2"
      },
      "execution_count": null,
      "outputs": [
        {
          "output_type": "stream",
          "name": "stdout",
          "text": [
            "sort: ['Álgebra', 'Redes Complejas', 'Lineal', 'Gráficas y Juegos']\n"
          ]
        }
      ]
    },
    {
      "cell_type": "code",
      "source": [
        "#Invertir la lista\n",
        "materias.reverse()\n",
        "print(\"reverse:\", materias)"
      ],
      "metadata": {
        "colab": {
          "base_uri": "https://localhost:8080/"
        },
        "id": "c61Zj3-y4KU9",
        "outputId": "86532190-7cee-4f2e-ce82-553ce9930e01"
      },
      "execution_count": null,
      "outputs": [
        {
          "output_type": "stream",
          "name": "stdout",
          "text": [
            "reverse: ['Gráficas y Juegos', 'Lineal', 'Redes Complejas', 'Álgebra']\n"
          ]
        }
      ]
    },
    {
      "cell_type": "code",
      "source": [
        "#Devuelve la longitud de la lista\n",
        "print(\"len:\", len(materias))"
      ],
      "metadata": {
        "colab": {
          "base_uri": "https://localhost:8080/"
        },
        "id": "230kaARg4Mw9",
        "outputId": "33eef08d-f589-46db-a9a1-ff9e8179b13a"
      },
      "execution_count": null,
      "outputs": [
        {
          "output_type": "stream",
          "name": "stdout",
          "text": [
            "len: 4\n"
          ]
        }
      ]
    },
    {
      "cell_type": "code",
      "source": [
        "#Devuelve una parte de la lista\n",
        "print(\"materias[1:3]:\", materias[1:3])\n",
        "print(\"materias[-3:-1]:\", materias[-3:-1])"
      ],
      "metadata": {
        "colab": {
          "base_uri": "https://localhost:8080/"
        },
        "id": "xg8FX5vI4OQt",
        "outputId": "c1d2de2a-1a9d-413e-dfea-f2ade09b1361"
      },
      "execution_count": null,
      "outputs": [
        {
          "output_type": "stream",
          "name": "stdout",
          "text": [
            "materias[1:3]: ['Lineal', 'Redes Complejas']\n",
            "materias[-3:-1]: ['Lineal', 'Redes Complejas']\n"
          ]
        }
      ]
    },
    {
      "cell_type": "markdown",
      "source": [
        "##Diccionarios / Hashmaps"
      ],
      "metadata": {
        "id": "fy5IJDIx555Z"
      }
    },
    {
      "cell_type": "code",
      "source": [
        "#llave : valor\n",
        "alumno = {\n",
        "    \"nombre\": \"Daniel\",\n",
        "    \"edad\": 23,\n",
        "    \"carrera\": \"Matemáticas Aplicadas\"\n",
        "}\n",
        "\n",
        "#Acceder a los valores\n",
        "print(\"Edad:\", alumno[\"edad\"]) #diccionario[key]\n",
        "print(\"Nombre:\", alumno[\"nombre\"])"
      ],
      "metadata": {
        "colab": {
          "base_uri": "https://localhost:8080/"
        },
        "id": "XpPND8Ya4Oo2",
        "outputId": "97e0706f-050d-4b7c-f8ca-6d8cf84e84cc"
      },
      "execution_count": null,
      "outputs": [
        {
          "output_type": "stream",
          "name": "stdout",
          "text": [
            "Edad: 23\n",
            "Nombre: Daniel\n"
          ]
        }
      ]
    },
    {
      "cell_type": "code",
      "source": [
        "#Acceder a las llaves\n",
        "print(\"Carrera:\", alumno.get(\"carrera\", \"No registrado\"))\n",
        "print(\"Promedio:\", alumno.get(\"promedio\", \"No registrado\"))"
      ],
      "metadata": {
        "colab": {
          "base_uri": "https://localhost:8080/"
        },
        "id": "gkgIf_tV8aQF",
        "outputId": "db116702-5e7f-470a-956c-088c3a0ecf43"
      },
      "execution_count": null,
      "outputs": [
        {
          "output_type": "stream",
          "name": "stdout",
          "text": [
            "Carrera: Matemáticas Aplicadas\n",
            "Promedio: No registrado\n"
          ]
        }
      ]
    },
    {
      "cell_type": "code",
      "source": [
        "#Acceder a todas las llaves\n",
        "print(\"LLaves:\", alumno.keys())\n",
        "\n",
        "#Acceder a todos los valores\n",
        "print(\"Valores:\", alumno.values())\n",
        "\n",
        "#Acceder a todos los items\n",
        "print(\"Items:\", alumno.items())"
      ],
      "metadata": {
        "colab": {
          "base_uri": "https://localhost:8080/"
        },
        "id": "NeQVvDAy8qbR",
        "outputId": "f2227571-2be4-42f8-a80a-3ed2175b64a0"
      },
      "execution_count": null,
      "outputs": [
        {
          "output_type": "stream",
          "name": "stdout",
          "text": [
            "LLaves: dict_keys(['nombre', 'edad', 'carrera'])\n",
            "Valores: dict_values(['Daniel', 23, 'Matemáticas Aplicadas'])\n",
            "Items: dict_items([('nombre', 'Daniel'), ('edad', 23), ('carrera', 'Matemáticas Aplicadas')])\n"
          ]
        }
      ]
    },
    {
      "cell_type": "code",
      "source": [
        "#Modificar un valor y agregar uno nuevo\n",
        "alumno.update({\"promedio\": 8.2, \"edad\": 22})\n",
        "print(\"Actualización:\", alumno)"
      ],
      "metadata": {
        "colab": {
          "base_uri": "https://localhost:8080/"
        },
        "id": "zJFIwNBs87Uh",
        "outputId": "c29e7040-3f6c-4445-b774-b4e419d37e98"
      },
      "execution_count": null,
      "outputs": [
        {
          "output_type": "stream",
          "name": "stdout",
          "text": [
            "Actualización: {'nombre': 'Daniel', 'edad': 22, 'carrera': 'Matemáticas Aplicadas', 'promedio': 8.2}\n"
          ]
        }
      ]
    },
    {
      "cell_type": "code",
      "source": [
        "eliminado = alumno.pop(\"edad\")\n",
        "print(\"Pop:\", eliminado)\n",
        "print(\"Diccionario actualizado:\", alumno)"
      ],
      "metadata": {
        "colab": {
          "base_uri": "https://localhost:8080/"
        },
        "id": "f8nfPoS29Iww",
        "outputId": "21ecddbf-7e62-4e56-d174-da462d14e111"
      },
      "execution_count": null,
      "outputs": [
        {
          "output_type": "stream",
          "name": "stdout",
          "text": [
            "Pop: 22\n",
            "Diccionario actualizado: {'nombre': 'Daniel', 'carrera': 'Matemáticas Aplicadas', 'promedio': 8.2}\n"
          ]
        }
      ]
    },
    {
      "cell_type": "code",
      "source": [
        "alumno.clear()\n",
        "print(alumno)"
      ],
      "metadata": {
        "colab": {
          "base_uri": "https://localhost:8080/"
        },
        "id": "qmPD1Xrr9Vxq",
        "outputId": "2848c435-f9ed-43ca-db25-e6d68b9752d4"
      },
      "execution_count": null,
      "outputs": [
        {
          "output_type": "stream",
          "name": "stdout",
          "text": [
            "{}\n"
          ]
        }
      ]
    },
    {
      "cell_type": "code",
      "source": [
        "#Crear un diccionario a partir de listas\n",
        "claves = [\"nombre\", \"edad\", \"carrera\"]\n",
        "valores = [\"Eduardo\", 'Desconocida', \"Matemáticas\"]\n",
        "profesor = dict(zip(claves, valores))\n",
        "print(\"Nuevo diccionario:\", profesor)"
      ],
      "metadata": {
        "colab": {
          "base_uri": "https://localhost:8080/"
        },
        "id": "HXgFDUwC9bIY",
        "outputId": "e306c615-1e9f-4197-ff9a-8233a7ac9c84"
      },
      "execution_count": null,
      "outputs": [
        {
          "output_type": "stream",
          "name": "stdout",
          "text": [
            "Nuevo diccionario: {'nombre': 'Eduardo', 'edad': 'Desconocida', 'carrera': 'Matemáticas'}\n"
          ]
        }
      ]
    },
    {
      "cell_type": "code",
      "source": [
        "#Hashmap\n",
        "\n",
        "#Los Nadies, Eduardo Galeano\n",
        "texto = '''\n",
        "Sueñan las pulgas con comprarse un perro\n",
        "y sueñan los nadies con salir de pobres,\n",
        "que algún mágico día\n",
        "llueva de pronto la buena suerte,\n",
        "que llueva a cántaros la buena suerte;\n",
        "pero la buena suerte no llueve ayer, ni hoy,\n",
        "ni mañana, ni nunca,\n",
        "ni en lloviznita cae del cielo la buena suerte,\n",
        "por mucho que los nadies la llamen\n",
        "y aunque les pique la mano izquierda,\n",
        "o se levanten con el pie derecho,\n",
        "o empiecen el año cambiando de escoba.\n",
        "\n",
        "Los nadies: los hijos de nadie,\n",
        "los dueños de nada.\n",
        "Los nadies: los ningunos, los ninguneados,\n",
        "corriendo la liebre, muriendo la vida, jodidos,\n",
        "rejodidos:\n",
        "\n",
        "Que no son, aunque sean.\n",
        "Que no hablan idiomas, sino dialectos.\n",
        "Que no profesan religiones,\n",
        "sino supersticiones.\n",
        "Que no hacen arte, sino artesanía.\n",
        "Que no practican cultura, sino folklore.\n",
        "Que no son seres humanos,\n",
        "sino recursos humanos.\n",
        "Que no tienen cara, sino brazos.\n",
        "Que no tienen nombre, sino número.\n",
        "Que no figuran en la historia universal,\n",
        "sino en la crónica roja de la prensa local.\n",
        "Los nadies,\n",
        "que cuestan menos\n",
        "que la bala que los mata\n",
        "'''\n",
        "\n",
        "#String a lista\n",
        "palabras = texto.lower().split()\n",
        "\n",
        "#Diccionario vacío\n",
        "frecuencia = {}\n",
        "\n",
        "#Recorremos cada palabra\n",
        "for palabra in palabras:\n",
        "    if palabra in frecuencia:\n",
        "        frecuencia[palabra] += 1\n",
        "    else:\n",
        "        frecuencia[palabra] = 1\n",
        "\n",
        "#Imprimimos el diccionario ordenado de mayor a menor\n",
        "frecuencia_ordenada = dict(sorted(frecuencia.items(), key=lambda x: x[1], reverse=True))\n",
        "print(frecuencia_ordenada)"
      ],
      "metadata": {
        "colab": {
          "base_uri": "https://localhost:8080/"
        },
        "id": "HkeJikEo93cf",
        "outputId": "c93b90dd-cd01-4718-d26b-89223b138d86"
      },
      "execution_count": null,
      "outputs": [
        {
          "output_type": "stream",
          "name": "stdout",
          "text": [
            "{'que': 15, 'la': 12, 'los': 10, 'no': 10, 'sino': 8, 'de': 6, 'buena': 4, 'ni': 4, 'con': 3, 'en': 3, 'sueñan': 2, 'y': 2, 'nadies': 2, 'llueva': 2, 'suerte,': 2, 'aunque': 2, 'o': 2, 'el': 2, 'nadies:': 2, 'tienen': 2, 'las': 1, 'pulgas': 1, 'comprarse': 1, 'un': 1, 'perro': 1, 'salir': 1, 'pobres,': 1, 'algún': 1, 'mágico': 1, 'día': 1, 'pronto': 1, 'a': 1, 'cántaros': 1, 'suerte;': 1, 'pero': 1, 'suerte': 1, 'llueve': 1, 'ayer,': 1, 'hoy,': 1, 'mañana,': 1, 'nunca,': 1, 'lloviznita': 1, 'cae': 1, 'del': 1, 'cielo': 1, 'por': 1, 'mucho': 1, 'llamen': 1, 'les': 1, 'pique': 1, 'mano': 1, 'izquierda,': 1, 'se': 1, 'levanten': 1, 'pie': 1, 'derecho,': 1, 'empiecen': 1, 'año': 1, 'cambiando': 1, 'escoba.': 1, 'hijos': 1, 'nadie,': 1, 'dueños': 1, 'nada.': 1, 'ningunos,': 1, 'ninguneados,': 1, 'corriendo': 1, 'liebre,': 1, 'muriendo': 1, 'vida,': 1, 'jodidos,': 1, 'rejodidos:': 1, 'son,': 1, 'sean.': 1, 'hablan': 1, 'idiomas,': 1, 'dialectos.': 1, 'profesan': 1, 'religiones,': 1, 'supersticiones.': 1, 'hacen': 1, 'arte,': 1, 'artesanía.': 1, 'practican': 1, 'cultura,': 1, 'folklore.': 1, 'son': 1, 'seres': 1, 'humanos,': 1, 'recursos': 1, 'humanos.': 1, 'cara,': 1, 'brazos.': 1, 'nombre,': 1, 'número.': 1, 'figuran': 1, 'historia': 1, 'universal,': 1, 'crónica': 1, 'roja': 1, 'prensa': 1, 'local.': 1, 'nadies,': 1, 'cuestan': 1, 'menos': 1, 'bala': 1, 'mata': 1}\n"
          ]
        }
      ]
    },
    {
      "cell_type": "markdown",
      "source": [
        "##Montar Drive en Colab"
      ],
      "metadata": {
        "id": "2Z4LxNhz7e0K"
      }
    },
    {
      "cell_type": "code",
      "source": [
        "from google.colab import drive\n",
        "drive.mount('/content/drive')"
      ],
      "metadata": {
        "colab": {
          "base_uri": "https://localhost:8080/"
        },
        "id": "DNYxbVWr7ee_",
        "outputId": "7c891602-67f3-44a6-9534-802e47fcb330"
      },
      "execution_count": null,
      "outputs": [
        {
          "output_type": "stream",
          "name": "stdout",
          "text": [
            "Mounted at /content/drive\n"
          ]
        }
      ]
    },
    {
      "cell_type": "code",
      "source": [
        "!pip install PyMuPDF"
      ],
      "metadata": {
        "colab": {
          "base_uri": "https://localhost:8080/"
        },
        "id": "AU5eWjPC9_6c",
        "outputId": "bb4b13c0-fd7c-4e72-e1a8-95882b043faf"
      },
      "execution_count": null,
      "outputs": [
        {
          "output_type": "stream",
          "name": "stdout",
          "text": [
            "Collecting PyMuPDF\n",
            "  Downloading pymupdf-1.26.3-cp39-abi3-manylinux_2_28_x86_64.whl.metadata (3.4 kB)\n",
            "Downloading pymupdf-1.26.3-cp39-abi3-manylinux_2_28_x86_64.whl (24.1 MB)\n",
            "\u001b[2K   \u001b[90m━━━━━━━━━━━━━━━━━━━━━━━━━━━━━━━━━━━━━━━━\u001b[0m \u001b[32m24.1/24.1 MB\u001b[0m \u001b[31m78.6 MB/s\u001b[0m eta \u001b[36m0:00:00\u001b[0m\n",
            "\u001b[?25hInstalling collected packages: PyMuPDF\n",
            "Successfully installed PyMuPDF-1.26.3\n"
          ]
        }
      ]
    },
    {
      "cell_type": "code",
      "source": [
        "import pandas as pd\n",
        "import fitz #PyMuPDF\n",
        "\n",
        "pdf = '/content/drive/MyDrive/MatApl/Semestre7/Inferencia Estadistica/Tarea_Descriptiva_9180.pdf'\n",
        "doc = fitz.open(pdf)\n",
        "\n",
        "for i, pagina in enumerate(doc):\n",
        "    texto = pagina.get_text()\n",
        "    print(f\"--- Página {i + 1} ---\")\n",
        "    print(texto)\n",
        "    print(\"\\n\")\n",
        "\n",
        "doc.close()"
      ],
      "metadata": {
        "colab": {
          "base_uri": "https://localhost:8080/"
        },
        "id": "8devO7eT98en",
        "outputId": "b9fbcfbf-241a-487f-92ee-02579a853919"
      },
      "execution_count": null,
      "outputs": [
        {
          "output_type": "stream",
          "name": "stdout",
          "text": [
            "--- Página 1 ---\n",
            "Inferencia Estadística\n",
            "Estadística Descriptiva\n",
            "Profesor: Jaime Vázquez Alamilla\n",
            "Valery Rodríguez\n",
            "Sebastián Rosas\n",
            "03 de septiembre 2024\n",
            "Resuelva los siguientes ejercicios.\n",
            "1. En un estudio médico, fueron recolectados los niveles de colesterol en la sangre de una\n",
            "muestra de 43 personas y los resultados son los siguientes:\n",
            "239, 212, 249, 227, 218, 310, 281, 330, 226, 233, 195, 233, 161, 195, 233, 249, 284, 245,\n",
            "174, 154, 256, 163, 196, 299, 210, 301, 199, 258, 205, 195, 227, 244, 297, 355, 234, 195,\n",
            "179, 357, 282, 265, 286, 286, 176\n",
            "a) Agrupe los datos en una distribución de frecuencias.\n",
            "b) Grafique el histograma de frecuencias relativas y comente la forma de la distribu-\n",
            "ción.\n",
            "c) Calcule la media y la desviación estándar.\n",
            "d) Grafique la función de distibución acumulativa de la muestra y use esta gráfica\n",
            "para determinar la mediana y los cuartiles.\n",
            "2. Se recolectaron 50 mediciones de lluvia ácida en Toluca:\n",
            "3.58 3.80 4.01 4.01 4.05 4.05 4.12 4.18 4.20 4.21 4.27 4.28 4.30 4.32 4.33 4.35 4.35 4.41\n",
            "4.42 4.45 4.45 4.50 4.50 4.50 4.50 4.51 4.52 4.52 4.52 4.57 4.58 4.60 4.61 4.61 4.62 4.62\n",
            "4.65 4.70 4.70 4.70 4.70 4.72 4.78 4.78 4.80 5.07 5.20 5.26 5.41 5.48\n",
            "a) Encuentre el 90v o percentil.\n",
            "b) Calcule la mediana y los cuartiles.\n",
            "c) Grafique los datos en un diagrama de caja y brazos (boxplot).\n",
            "d) Determine los intervalos: x ± s, x ± 2s y x ± 3s.\n",
            "1\n",
            "\n",
            "\n",
            "\n",
            "--- Página 2 ---\n",
            "e) ¿Qué medidas están contenidas en los intervalos anteriores?\n",
            "e) Haga un histograma de los datos.\n",
            "3. Se aplicó una encuesta a hombres y mujeres para saber que resulta más interesante\n",
            "para esta población, y se obtuvieron los siguientes resultados:\n",
            "Intereses\n",
            "Amor\n",
            "Dinero\n",
            "Belleza\n",
            "Tecnologıa\n",
            "Automóviles\n",
            "Futbol\n",
            "Hombres\n",
            "17\n",
            "95\n",
            "5\n",
            "35\n",
            "48\n",
            "34\n",
            "Mujeres\n",
            "21\n",
            "22\n",
            "84\n",
            "9\n",
            "26\n",
            "15\n",
            "a) Construya la gráfica de pastel para hombres y mujeres.\n",
            "b) ¿Qué diferencias puede notar en los intereses relativos de los hombres en compa-\n",
            "ración con las mujeres?\n",
            "4. El dataset titanic.csv con tiene información sobre algunos pasajeros del titanic, con\n",
            "estos datos realice lo siguiente:\n",
            "a) Realice un análisis descriptivo de la base de datos.\n",
            "b) Grafique el numero de personas que sobrevivieron y las que no sobrevivieron\n",
            "(gráfico de barras) y la tasa de supervivencia por sexo, también por clase.\n",
            "c) ¿En que rango de edad se encuentra la mayorıa de sobrevivientes del accidente?\n",
            "d) ¿Que podemos concluir de los datos?\n",
            "2\n",
            "\n",
            "\n",
            "\n"
          ]
        }
      ]
    },
    {
      "cell_type": "code",
      "source": [],
      "metadata": {
        "id": "Mx-pFfCONbYk"
      },
      "execution_count": null,
      "outputs": []
    }
  ]
}
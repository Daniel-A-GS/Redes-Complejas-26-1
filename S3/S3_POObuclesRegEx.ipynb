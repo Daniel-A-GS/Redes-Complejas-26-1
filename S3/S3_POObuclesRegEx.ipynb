{
  "nbformat": 4,
  "nbformat_minor": 0,
  "metadata": {
    "colab": {
      "provenance": []
    },
    "kernelspec": {
      "name": "python3",
      "display_name": "Python 3"
    },
    "language_info": {
      "name": "python"
    }
  },
  "cells": [
    {
      "cell_type": "markdown",
      "source": [
        "## Condicionales: if, else, elif\n",
        "\n",
        "Ayudan a tomar decisiones en los ciclos, ejemplo: añadir un elemento a una lista si cumple ciertas caracteristicas"
      ],
      "metadata": {
        "id": "7eVlFgBWVCAK"
      }
    },
    {
      "cell_type": "code",
      "execution_count": null,
      "metadata": {
        "colab": {
          "base_uri": "https://localhost:8080/"
        },
        "id": "lXnZDTJBUNoT",
        "outputId": "533225b4-bf7c-4fd2-ee35-209940ef7e88"
      },
      "outputs": [
        {
          "output_type": "stream",
          "name": "stdout",
          "text": [
            "Es mayor que 5\n"
          ]
        }
      ],
      "source": [
        "# Ver si un número es mayor que 5\n",
        "\n",
        "x = 10\n",
        "if x > 5:\n",
        "    print(\"Es mayor que 5\")\n",
        "else:\n",
        "    print(\"No es mayor que 5\")"
      ]
    },
    {
      "cell_type": "code",
      "source": [
        "# Ver la importancia de un nodo\n",
        "\n",
        "grado = 12  #número de enlaces de un nodo\n",
        "if grado > 10:\n",
        "    print(\"Nodo muy conectado\")\n",
        "elif grado > 5:\n",
        "    print(\"Nodo medianamente conectado\")\n",
        "else:\n",
        "    print(\"Nodo poco conectado\")"
      ],
      "metadata": {
        "colab": {
          "base_uri": "https://localhost:8080/"
        },
        "id": "gN48oORnViCZ",
        "outputId": "91164532-b72a-4ff9-80c0-d780f2ea0d7e"
      },
      "execution_count": null,
      "outputs": [
        {
          "output_type": "stream",
          "name": "stdout",
          "text": [
            "Nodo muy conectado\n"
          ]
        }
      ]
    },
    {
      "cell_type": "code",
      "source": [
        "conexiones = 0\n",
        "if conexiones == 0:\n",
        "    print(\"Nodo aislado\")\n",
        "else:\n",
        "    print(\"Nodo conectado\")"
      ],
      "metadata": {
        "colab": {
          "base_uri": "https://localhost:8080/"
        },
        "id": "Y98xUzlQWEpx",
        "outputId": "271f7465-635a-4678-dfbb-6129e18cf0fd"
      },
      "execution_count": null,
      "outputs": [
        {
          "output_type": "stream",
          "name": "stdout",
          "text": [
            "Nodo aislado\n"
          ]
        }
      ]
    },
    {
      "cell_type": "code",
      "source": [
        "limit = 100\n",
        "\n",
        "for i in range(1, limit + 1):\n",
        "    if i % 3 == 0 and i % 5 == 0:\n",
        "        print(i, \"FizzBuzz\")\n",
        "    elif i % 3 == 0:\n",
        "        print(i, \"Fizz\")\n",
        "    elif i % 5 == 0:\n",
        "        print(i, \"Buzz\")"
      ],
      "metadata": {
        "colab": {
          "base_uri": "https://localhost:8080/"
        },
        "id": "YfYNHQbMW1yD",
        "outputId": "ae3f931f-ef82-4888-da8a-cdea6aabe97e"
      },
      "execution_count": null,
      "outputs": [
        {
          "output_type": "stream",
          "name": "stdout",
          "text": [
            "3 Fizz\n",
            "5 Buzz\n",
            "6 Fizz\n",
            "9 Fizz\n",
            "10 Buzz\n",
            "12 Fizz\n",
            "15 FizzBuzz\n",
            "18 Fizz\n",
            "20 Buzz\n",
            "21 Fizz\n",
            "24 Fizz\n",
            "25 Buzz\n",
            "27 Fizz\n",
            "30 FizzBuzz\n",
            "33 Fizz\n",
            "35 Buzz\n",
            "36 Fizz\n",
            "39 Fizz\n",
            "40 Buzz\n",
            "42 Fizz\n",
            "45 FizzBuzz\n",
            "48 Fizz\n",
            "50 Buzz\n",
            "51 Fizz\n",
            "54 Fizz\n",
            "55 Buzz\n",
            "57 Fizz\n",
            "60 FizzBuzz\n",
            "63 Fizz\n",
            "65 Buzz\n",
            "66 Fizz\n",
            "69 Fizz\n",
            "70 Buzz\n",
            "72 Fizz\n",
            "75 FizzBuzz\n",
            "78 Fizz\n",
            "80 Buzz\n",
            "81 Fizz\n",
            "84 Fizz\n",
            "85 Buzz\n",
            "87 Fizz\n",
            "90 FizzBuzz\n",
            "93 Fizz\n",
            "95 Buzz\n",
            "96 Fizz\n",
            "99 Fizz\n",
            "100 Buzz\n"
          ]
        }
      ]
    },
    {
      "cell_type": "markdown",
      "source": [
        "## Ciclos: for\n",
        "\n",
        "Un ciclo que recorre un rango o elementos de una colección."
      ],
      "metadata": {
        "id": "OapYWcLFVGZu"
      }
    },
    {
      "cell_type": "code",
      "source": [
        "for i in range(5):\n",
        "    print(i)"
      ],
      "metadata": {
        "colab": {
          "base_uri": "https://localhost:8080/"
        },
        "id": "CjyzkGzJVK9J",
        "outputId": "60e16718-c4da-42fe-a353-1afcc79c1484"
      },
      "execution_count": null,
      "outputs": [
        {
          "output_type": "stream",
          "name": "stdout",
          "text": [
            "0\n",
            "1\n",
            "2\n",
            "3\n",
            "4\n"
          ]
        }
      ]
    },
    {
      "cell_type": "code",
      "source": [
        "num = int(input(\"¿Qué tabla de multiplicar quieres ver? \"))\n",
        "for i in range(1, 11):\n",
        "    print(f\"{num} x {i} = {num*i}\")"
      ],
      "metadata": {
        "colab": {
          "base_uri": "https://localhost:8080/"
        },
        "id": "zdpwdSB4mp2T",
        "outputId": "a618782c-88e4-42ec-ca21-3ad2e8fc6ff4"
      },
      "execution_count": null,
      "outputs": [
        {
          "output_type": "stream",
          "name": "stdout",
          "text": [
            "¿Qué tabla de multiplicar quieres ver? 6\n",
            "6 x 1 = 6\n",
            "6 x 2 = 12\n",
            "6 x 3 = 18\n",
            "6 x 4 = 24\n",
            "6 x 5 = 30\n",
            "6 x 6 = 36\n",
            "6 x 7 = 42\n",
            "6 x 8 = 48\n",
            "6 x 9 = 54\n",
            "6 x 10 = 60\n"
          ]
        }
      ]
    },
    {
      "cell_type": "code",
      "source": [
        "palabra = \"Aguacate\"\n",
        "vocales = \"aeiou\"\n",
        "contador = 0\n",
        "\n",
        "for letra in palabra:\n",
        "    if letra in vocales:\n",
        "        contador += 1\n",
        "\n",
        "print(f\"La palabra '{palabra}' tiene {contador} vocales.\")"
      ],
      "metadata": {
        "colab": {
          "base_uri": "https://localhost:8080/"
        },
        "id": "C9hOXZkynTr5",
        "outputId": "5531017a-7d64-495d-9fd9-e2d1ead1fee8"
      },
      "execution_count": null,
      "outputs": [
        {
          "output_type": "stream",
          "name": "stdout",
          "text": [
            "La palabra 'Aguacate' tiene 4 vocales.\n"
          ]
        }
      ]
    },
    {
      "cell_type": "code",
      "source": [
        "palabra = \"Aguacate\"\n",
        "vocales = \"aeiou\"\n",
        "contador = 0\n",
        "\n",
        "for letra in palabra.lower():\n",
        "    if letra in vocales:\n",
        "        contador += 1\n",
        "\n",
        "print(f\"La palabra '{palabra}' tiene {contador} vocales.\")"
      ],
      "metadata": {
        "colab": {
          "base_uri": "https://localhost:8080/"
        },
        "id": "XcxsjqdUm-2E",
        "outputId": "22b60b93-03d3-4579-eb24-0b76237975c3"
      },
      "execution_count": null,
      "outputs": [
        {
          "output_type": "stream",
          "name": "stdout",
          "text": [
            "La palabra 'Aguacate' tiene 5 vocales.\n"
          ]
        }
      ]
    },
    {
      "cell_type": "code",
      "source": [
        "numeros = [1, 2, 3, 4, 5, 6, 7]\n",
        "cuadrados = []\n",
        "for n in numeros:\n",
        "    cuadrados.append(n**2)\n",
        "print(cuadrados)"
      ],
      "metadata": {
        "colab": {
          "base_uri": "https://localhost:8080/"
        },
        "id": "F__eor8tnmAd",
        "outputId": "e3f682c4-cf47-49e7-8b5b-b57179df9b6d"
      },
      "execution_count": null,
      "outputs": [
        {
          "output_type": "stream",
          "name": "stdout",
          "text": [
            "[1, 4, 9, 16, 25, 36, 49]\n"
          ]
        }
      ]
    },
    {
      "cell_type": "code",
      "source": [
        "metals = ['Li', 'Na', 'K']\n",
        "weights = [6.941, 22.98976928, 39.0983]\n",
        "for metal, weight in zip(metals, weights):\n",
        "    print(metal, weight)"
      ],
      "metadata": {
        "colab": {
          "base_uri": "https://localhost:8080/"
        },
        "id": "-OnCznosqSsr",
        "outputId": "268a37e9-174d-475d-cb8f-a6a6ca8743cc"
      },
      "execution_count": null,
      "outputs": [
        {
          "output_type": "stream",
          "name": "stdout",
          "text": [
            "Li 6.941\n",
            "Na 22.98976928\n",
            "K 39.0983\n"
          ]
        }
      ]
    },
    {
      "cell_type": "code",
      "source": [
        "#Crear una lista con los primeros números de Fibonacci\n",
        "n = 10\n",
        "fibonacci = [0, 1]\n",
        "\n",
        "for i in range(2, n):\n",
        "    siguiente = fibonacci[-1] + fibonacci[-2]\n",
        "    fibonacci.append(siguiente)\n",
        "\n",
        "print(f\"Los primeros {n} números de Fibonacci son: {fibonacci}\")"
      ],
      "metadata": {
        "colab": {
          "base_uri": "https://localhost:8080/"
        },
        "id": "QwX5VhTxokLv",
        "outputId": "c51e5c4d-2661-455b-815d-29694a4927e4"
      },
      "execution_count": null,
      "outputs": [
        {
          "output_type": "stream",
          "name": "stdout",
          "text": [
            "Los primeros 10 números de Fibonacci son: [0, 1, 1, 2, 3, 5, 8, 13, 21, 34]\n"
          ]
        }
      ]
    },
    {
      "cell_type": "code",
      "source": [
        "#Fibonacci sin listas\n",
        "a, b = 0, 1\n",
        "for _ in range(10):\n",
        "    print(a, end=\" \")\n",
        "    a, b = b, a + b"
      ],
      "metadata": {
        "colab": {
          "base_uri": "https://localhost:8080/"
        },
        "id": "6IQ1J53rox3k",
        "outputId": "bd1a298a-357c-48fb-f741-a32c5aca9c48"
      },
      "execution_count": null,
      "outputs": [
        {
          "output_type": "stream",
          "name": "stdout",
          "text": [
            "0 1 1 2 3 5 8 13 21 34 "
          ]
        }
      ]
    },
    {
      "cell_type": "code",
      "source": [
        "#Listas anidadas\n",
        "elements = [['Li', 'Na', 'K'], ['F', 'Cl', 'Br']]\n",
        "for inner_list in elements:\n",
        "    for item in inner_list:\n",
        "        print(item)"
      ],
      "metadata": {
        "colab": {
          "base_uri": "https://localhost:8080/"
        },
        "id": "mq_Du8e0qlGS",
        "outputId": "81887159-e9c7-4f51-c062-cc4c899e01c2"
      },
      "execution_count": null,
      "outputs": [
        {
          "output_type": "stream",
          "name": "stdout",
          "text": [
            "Li\n",
            "Na\n",
            "K\n",
            "F\n",
            "Cl\n",
            "Br\n"
          ]
        }
      ]
    },
    {
      "cell_type": "markdown",
      "source": [
        "## Ciclos: while\n",
        "\n",
        "Continua hasta que cumple el criterio de paro / mientras la condición sea verdadera"
      ],
      "metadata": {
        "id": "n0oPJEI_VLVP"
      }
    },
    {
      "cell_type": "code",
      "source": [
        "x = 1\n",
        "while x <= 5:\n",
        "    print(x)\n",
        "    x += 1"
      ],
      "metadata": {
        "colab": {
          "base_uri": "https://localhost:8080/"
        },
        "id": "j06DbfJ6VNj_",
        "outputId": "2d44d4ef-033d-4b3d-8d95-132fa7aa80ad"
      },
      "execution_count": null,
      "outputs": [
        {
          "output_type": "stream",
          "name": "stdout",
          "text": [
            "1\n",
            "2\n",
            "3\n",
            "4\n",
            "5\n"
          ]
        }
      ]
    },
    {
      "cell_type": "code",
      "source": [
        "#Crear una lista de contactos\n",
        "palabra = \"\"\n",
        "contactos = []\n",
        "while palabra != \"x\":\n",
        "    palabra = input(\"Escribe el nombre de tu contacto o presiona 'x' para salir: \")\n",
        "    if palabra != \"x\":\n",
        "        contactos.append(palabra)\n",
        "print(f\"Tu lista de contactos es: {contactos} y tienes {len(contactos)} contactos\")"
      ],
      "metadata": {
        "colab": {
          "base_uri": "https://localhost:8080/"
        },
        "id": "fw0RpvDrpO9p",
        "outputId": "d2f2becb-94fb-4cd5-e3e7-fea8e0f164da"
      },
      "execution_count": null,
      "outputs": [
        {
          "output_type": "stream",
          "name": "stdout",
          "text": [
            "Escribe el nombre de tu contacto o presiona 'x' para salir: Eduardo\n",
            "Escribe el nombre de tu contacto o presiona 'x' para salir: Daniel\n",
            "Escribe el nombre de tu contacto o presiona 'x' para salir: x\n",
            "Tu lista de contactos es: ['Eduardo', 'Daniel'] y tienes 2 contactos\n"
          ]
        }
      ]
    },
    {
      "cell_type": "code",
      "source": [
        "#Fibonacci con while\n",
        "a, b = 0, 1\n",
        "limite = 1000\n",
        "while a <= limite:\n",
        "    print(a, end=\" \")\n",
        "    a, b = b, a + b"
      ],
      "metadata": {
        "colab": {
          "base_uri": "https://localhost:8080/"
        },
        "id": "avPsUA_ipq9H",
        "outputId": "7f3f2270-daf9-45af-ac83-5926a0b41b52"
      },
      "execution_count": null,
      "outputs": [
        {
          "output_type": "stream",
          "name": "stdout",
          "text": [
            "0 1 1 2 3 5 8 13 21 34 55 89 144 233 377 610 987 "
          ]
        }
      ]
    },
    {
      "cell_type": "code",
      "source": [
        "#Suma de los dígitos de un número\n",
        "number = 12345\n",
        "sum = 0\n",
        "while number:\n",
        "    sum += number % 10\n",
        "    number = number // 10\n",
        "print(sum)"
      ],
      "metadata": {
        "colab": {
          "base_uri": "https://localhost:8080/"
        },
        "id": "jQ8ElWFzq47k",
        "outputId": "56060f3c-07e4-4235-ba9c-e053f867a6ff"
      },
      "execution_count": null,
      "outputs": [
        {
          "output_type": "stream",
          "name": "stdout",
          "text": [
            "15\n"
          ]
        }
      ]
    },
    {
      "cell_type": "code",
      "source": [
        "summed_values = 0\n",
        "number_count = 0\n",
        "\n",
        "input_string = input('Pon un nuevo número o presiona enter para salir: ')\n",
        "\n",
        "while input_string:\n",
        "    summed_values += int(input_string)\n",
        "    number_count += 1\n",
        "    input_string = input('Pon un nuevo número o presiona enter para salir: ')\n",
        "\n",
        "\n",
        "average = summed_values / number_count\n",
        "\n",
        "print('El promedio de %d números es %f' % (number_count, average))"
      ],
      "metadata": {
        "colab": {
          "base_uri": "https://localhost:8080/"
        },
        "id": "-fiR5cnRsFxE",
        "outputId": "dcc97230-3a85-425e-d2ac-7ea74daf7ba3"
      },
      "execution_count": null,
      "outputs": [
        {
          "output_type": "stream",
          "name": "stdout",
          "text": [
            "Pon un nuevo número o presiona enter para salir: 1\n",
            "Pon un nuevo número o presiona enter para salir: 2\n",
            "Pon un nuevo número o presiona enter para salir: 3\n",
            "Pon un nuevo número o presiona enter para salir: 4\n",
            "Pon un nuevo número o presiona enter para salir: 5\n",
            "Pon un nuevo número o presiona enter para salir: 6\n",
            "Pon un nuevo número o presiona enter para salir: 7\n",
            "Pon un nuevo número o presiona enter para salir: 8\n",
            "Pon un nuevo número o presiona enter para salir: 9\n",
            "Pon un nuevo número o presiona enter para salir: 10\n",
            "Pon un nuevo número o presiona enter para salir: \n",
            "El promedio de 10 números es 5.500000\n"
          ]
        }
      ]
    },
    {
      "cell_type": "markdown",
      "source": [
        "# POO"
      ],
      "metadata": {
        "id": "ExSexA4AbOpV"
      }
    },
    {
      "cell_type": "code",
      "source": [
        "# --------------------------\n",
        "# Clase Principal\n",
        "# --------------------------\n",
        "class Animal:\n",
        "    def __init__(self, nombre, especie):\n",
        "        self.nombre = nombre              #atributo público\n",
        "        self.__especie = especie          #atributo privado (encapsulamiento / encapsulation)\n",
        "\n",
        "    def caminar(self):                    #método común a todos los animales\n",
        "        return f\"{self.nombre} está caminando\"\n",
        "\n",
        "    def get_especie(self):                #getter para leer especie\n",
        "        return self.__especie\n",
        "\n",
        "\n",
        "# --------------------------\n",
        "# Herencia\n",
        "# --------------------------\n",
        "class Perro(Animal):\n",
        "    # Constructor\n",
        "    def __init__(self, nombre, raza, edad):\n",
        "        super().__init__(nombre, \"canis lupus familiaris\")  #super() hereda atributos de Animal\n",
        "        self.__raza = raza  #atributo privado (encapsulamiento)\n",
        "        self.edad = edad\n",
        "\n",
        "    # Método propio de Perro\n",
        "    def ladrar(self):\n",
        "        return \"Woof\"\n",
        "\n",
        "    # Getter y Setter para edad (encapsulamiento)\n",
        "    def get_edad(self):\n",
        "        return self.edad\n",
        "\n",
        "    def set_edad(self, nueva_edad):         # setter para definir un atributo\n",
        "        if nueva_edad > 0 and type(nueva_edad)==int:\n",
        "            self.edad = nueva_edad\n",
        "        else:\n",
        "            print(\"La edad no puede ser negativa\")\n",
        "\n",
        "    # Sobreescritura de método info (polimorfismo)\n",
        "    def info(self):\n",
        "        return f\"{self.nombre} es un {self.__raza} de {self.edad} años\"\n",
        "\n",
        "\n",
        "# --------------------------\n",
        "# Polimorfismo\n",
        "# --------------------------\n",
        "class Gato(Animal):\n",
        "    def __init__(self, nombre, color):\n",
        "        super().__init__(nombre, \"Felis catus\")\n",
        "        self.color = color\n",
        "\n",
        "    def info(self):   # mismo método \"info\" pero diferente resultado\n",
        "        return f\"{self.nombre} es un gato color {self.color}\""
      ],
      "metadata": {
        "id": "CRjFUl0pXLMv"
      },
      "execution_count": null,
      "outputs": []
    },
    {
      "cell_type": "code",
      "source": [
        "Opu = Perro(\"Opu\", \"Yorkshire\", 6)\n",
        "\n",
        "print(Opu.nombre + \", ladra!\")\n",
        "print(Opu.ladrar())\n",
        "print(Opu.caminar())\n",
        "print(Opu.info())"
      ],
      "metadata": {
        "colab": {
          "base_uri": "https://localhost:8080/"
        },
        "id": "kNtRhi-kZKI2",
        "outputId": "7309827c-91c1-4dd4-caba-36724c8a845b"
      },
      "execution_count": null,
      "outputs": [
        {
          "output_type": "stream",
          "name": "stdout",
          "text": [
            "Opu, ladra!\n",
            "Woof\n",
            "Opu está caminando\n",
            "Opu es un Yorkshire de 6 años\n"
          ]
        }
      ]
    },
    {
      "cell_type": "code",
      "source": [
        "print(Opu.get_especie())"
      ],
      "metadata": {
        "colab": {
          "base_uri": "https://localhost:8080/"
        },
        "id": "ExGfNtMadZ_9",
        "outputId": "9d36003c-365d-474a-a34d-d7aa1a87e5ae"
      },
      "execution_count": null,
      "outputs": [
        {
          "output_type": "stream",
          "name": "stdout",
          "text": [
            "Canino\n"
          ]
        }
      ]
    },
    {
      "cell_type": "code",
      "source": [
        "# Encapsulamiento\n",
        "print(\"Edad de Opu:\", Opu.get_edad())\n",
        "Opu.set_edad(7)\n",
        "print(\"Nueva edad de Opu:\", Opu.get_edad())\n",
        "Opu.set_edad(-2)\n",
        "print(Opu.info())"
      ],
      "metadata": {
        "colab": {
          "base_uri": "https://localhost:8080/"
        },
        "id": "H5x1djXAZwdY",
        "outputId": "caf9088e-b798-44a3-a732-48749bb611a2"
      },
      "execution_count": null,
      "outputs": [
        {
          "output_type": "stream",
          "name": "stdout",
          "text": [
            "Edad de Opu: 6\n",
            "Nueva edad de Opu: 7\n",
            "La edad no puede ser negativa\n",
            "Opu es un Yorkshire de 7 años\n"
          ]
        }
      ]
    },
    {
      "cell_type": "code",
      "source": [
        "#EJEMPLO\n",
        "Gato = Gato(\"p\",\"p\")"
      ],
      "metadata": {
        "id": "roB-2T0KZNqf"
      },
      "execution_count": null,
      "outputs": []
    },
    {
      "cell_type": "code",
      "source": [
        "# Polimorfismo\n",
        "animales = [Opu, Gato]\n",
        "for animal in animales:\n",
        "    #todos tienen el método .info() pero cada uno responde distinto\n",
        "    print(animal.info())"
      ],
      "metadata": {
        "colab": {
          "base_uri": "https://localhost:8080/"
        },
        "id": "lywD3R3VZeEx",
        "outputId": "3d86bf27-8221-4cb3-8e77-b345741eeaad"
      },
      "execution_count": null,
      "outputs": [
        {
          "output_type": "stream",
          "name": "stdout",
          "text": [
            "Opu es un Yorkshire de 7 años\n",
            "p es un gato color p\n"
          ]
        }
      ]
    },
    {
      "cell_type": "markdown",
      "source": [
        "## Regular expressions"
      ],
      "metadata": {
        "id": "cTElIIfuSVAv"
      }
    },
    {
      "cell_type": "code",
      "source": [
        "import re"
      ],
      "metadata": {
        "id": "a9E6zwUNSU0A"
      },
      "execution_count": null,
      "outputs": []
    },
    {
      "cell_type": "markdown",
      "source": [
        "| Símbolo | Significado                   | Ejemplo                                |\n",
        "| ------- | ----------------------------- | -------------------------------------- |\n",
        "| `.`     | Cualquier carácter            | `a.c` → “abc”, “axc”, “a9c”            |\n",
        "| `^`     | Inicio de línea               | `^Hola` → solo si empieza con \"Hola\"   |\n",
        "| `$`     | Fin de línea                  | `mundo$` → solo si termina con \"mundo\" |\n",
        "| `\\d`    | Dígito (0-9)                  | `\\d\\d` → “12”, “99”                    |\n",
        "| `\\w`    | Letra, número o `_`           | `\\w+` → “hola123”                      |\n",
        "| `\\s`    | Espacio, tab o salto de línea | `\\s` → “ ”                             |\n",
        "| `+`     | Una o más repeticiones        | `\\d+` → “9”, “1234”                    |\n",
        "| `*`     | Cero o más repeticiones       | `ab*` → “a”, “abbb”                    |\n",
        "| `?`     | Cero o una repetición         | `colou?r` → “color” o “colour”         |\n",
        "| `{n}`   | Exactamente n repeticiones    | `\\d{3}` → “123”                        |\n",
        "| `{m,n}` | Entre m y n repeticiones      | `\\d{2,4}` → “12”, “1234”               |\n",
        "| `[]`   | Cualquier carácter dentro de los brackets        | `[aeiou]` → \"a\", \"e\"          |\n",
        "| `[^]`  | Cualquier carácter excepto los del brackets      | `[^0-9]` → \"a\", \"@\"           |\n",
        "| `()`   | Grupo de captura                                 | `(abc)+` → \"abcabc\"           |\n",
        "| `\\b`   | Límite de palabra                                | `\\bhola\\b` → \"hola\" en texto  |"
      ],
      "metadata": {
        "id": "HAxopjZaiGwK"
      }
    },
    {
      "cell_type": "code",
      "source": [
        "import re\n",
        "\n",
        "poema = \"\"\"\n",
        "We're foot—slog—slog—slog—sloggin' over Africa\n",
        "Foot—foot—foot—foot—sloggin' over Africa --\n",
        "(Boots—boots—boots—boots—movin' up and down again!)\n",
        "There's no discharge in the war!\n",
        "Seven—six—eleven—five—nine-an'-twenty mile to-day\n",
        "Four—eleven—seventeen—thirty-two the day before --\n",
        "(Boots—boots—boots—boots—movin' up and down again!)\n",
        "There's no discharge in the war!\n",
        "Don't—don't—don't—don't—look at what's in front of you.\n",
        "(Boots—boots—boots—boots—movin' up an' down again);\n",
        "Men—men—men—men—men go mad with watchin' em,\n",
        "An' there's no discharge in the war!\n",
        "Count—count—count—count—the bullets in the bandoliers.\n",
        "If—your—eyes—drop—they will get atop o' you!\n",
        "(Boots—boots—boots—boots—movin' up and down again) --\n",
        "There's no discharge in the war!\n",
        "We—can—stick—out—'unger, thirst, an' weariness,\n",
        "But—not—not—not—not the chronic sight of 'em,\n",
        "Boot—boots—boots—boots—movin' up an' down again,\n",
        "An' there's no discharge in the war!\n",
        "'Taint—so—bad—by—day because o' company,\n",
        "But night—brings—long—strings—o' forty thousand million\n",
        "Boots—boots—boots—boots—movin' up an' down again.\n",
        "There's no discharge in the war!\n",
        "I—'ave—marched—six—weeks in 'Ell an' certify\n",
        "It—is—not—fire—devils, dark, or anything,\n",
        "But boots—boots—boots—boots—movin' up an' down again,\n",
        "An' there's no discharge in the war!\n",
        "Try—try—try—try—to think o' something different\n",
        "Oh—my—God—keep—me from goin' lunatic!\n",
        "(Boots—boots—boots—boots—movin' up an' down again!)\n",
        "There's no discharge in the war! \"\"\""
      ],
      "metadata": {
        "id": "8pH3fB0Wllg0"
      },
      "execution_count": null,
      "outputs": []
    },
    {
      "cell_type": "code",
      "source": [
        "#¿En qué continente marchan?\n",
        "continentes = re.findall(r'\\b(Africa|Asia|Europa|America|Oceanía)\\b', poema, re.IGNORECASE)\n",
        "if continentes:\n",
        "    print(f\"Marchan sobre {continentes[0]}\")\n",
        "else:\n",
        "    print(\"No se especifica el continente\")\n",
        "print()"
      ],
      "metadata": {
        "colab": {
          "base_uri": "https://localhost:8080/"
        },
        "id": "lc-4R6vnmXN_",
        "outputId": "b344b07d-5f99-468b-ad2e-8a94976eba51"
      },
      "execution_count": null,
      "outputs": [
        {
          "output_type": "stream",
          "name": "stdout",
          "text": [
            "Marchan sobre Africa\n",
            "\n"
          ]
        }
      ]
    },
    {
      "cell_type": "code",
      "source": [
        "#¿Marchan de día, noche, lluvia, sol?\n",
        "dias = re.findall(r'\\b(day|night)\\b', poema, re.IGNORECASE)\n",
        "for momento in set(dias):\n",
        "    print(f\"Marchan durante el/la {momento.lower()}\")\n",
        "print()"
      ],
      "metadata": {
        "colab": {
          "base_uri": "https://localhost:8080/"
        },
        "id": "bhrMn4w4nB0K",
        "outputId": "0aa9a044-7b29-4350-8e90-330e528ef6b4"
      },
      "execution_count": null,
      "outputs": [
        {
          "output_type": "stream",
          "name": "stdout",
          "text": [
            "Marchan durante el/la night\n",
            "Marchan durante el/la day\n",
            "\n"
          ]
        }
      ]
    },
    {
      "cell_type": "code",
      "source": [
        "#¿Qué condiciones climáticas mencionan?\n",
        "clima = re.findall(r'\\b(fire|dark|rain|sun|hunger|thirst)\\b', poema, re.IGNORECASE)\n",
        "if clima:\n",
        "    for condicion in set(clima):\n",
        "        print(f\"{condicion.lower()}\")\n",
        "else:\n",
        "    print(\"No mencionan condiciones climáticas específicas\")\n",
        "print()"
      ],
      "metadata": {
        "colab": {
          "base_uri": "https://localhost:8080/"
        },
        "id": "LQqzDfmxnD5i",
        "outputId": "f4232e5f-95d4-420f-d280-ea76caf7b381"
      },
      "execution_count": null,
      "outputs": [
        {
          "output_type": "stream",
          "name": "stdout",
          "text": [
            "thirst\n",
            "dark\n",
            "fire\n",
            "\n"
          ]
        }
      ]
    },
    {
      "cell_type": "code",
      "source": [
        "# 5. ¿Qué distancia recorren?\n",
        "distancias = re.findall(r'(\\w+—\\w+—\\w+—\\w+—[\\w\\'-]+ mile)', poema)\n",
        "print(\"Distancias recorridas:\")\n",
        "for distancia in distancias:\n",
        "    print(f\"{distancia}\")\n",
        "print()"
      ],
      "metadata": {
        "colab": {
          "base_uri": "https://localhost:8080/"
        },
        "id": "XOro50YSnGmE",
        "outputId": "894f6f74-3b62-449a-98ef-cfeb57946e3e"
      },
      "execution_count": null,
      "outputs": [
        {
          "output_type": "stream",
          "name": "stdout",
          "text": [
            "Distancias recorridas:\n",
            "Seven—six—eleven—five—nine-an'-twenty mile\n",
            "\n"
          ]
        }
      ]
    },
    {
      "cell_type": "code",
      "source": [
        "#¿Hay referencia al infierno?\n",
        "infierno = re.search(r'in \\'Ell', poema)\n",
        "if infierno:\n",
        "    print(\"Comparan la marcha con estar en el infierno\")\n",
        "print()"
      ],
      "metadata": {
        "colab": {
          "base_uri": "https://localhost:8080/"
        },
        "id": "por8LpY2nxBa",
        "outputId": "19222af9-7121-45ec-fdc8-1d4445816fbe"
      },
      "execution_count": null,
      "outputs": [
        {
          "output_type": "stream",
          "name": "stdout",
          "text": [
            "Comparan la marcha con estar en el infierno\n",
            "\n"
          ]
        }
      ]
    }
  ]
}